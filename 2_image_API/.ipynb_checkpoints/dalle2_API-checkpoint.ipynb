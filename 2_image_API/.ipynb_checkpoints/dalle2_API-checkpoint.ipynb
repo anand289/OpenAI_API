{
 "cells": [
  {
   "cell_type": "code",
   "execution_count": 21,
   "id": "4e86cef3",
   "metadata": {},
   "outputs": [],
   "source": [
    "import openai"
   ]
  },
  {
   "cell_type": "code",
   "execution_count": 22,
   "id": "3bb4b754",
   "metadata": {},
   "outputs": [],
   "source": [
    "import os"
   ]
  },
  {
   "cell_type": "code",
   "execution_count": 23,
   "id": "dce570b7",
   "metadata": {},
   "outputs": [],
   "source": [
    "#os.environ['OPENAI_API_KEY'] = ''"
   ]
  },
  {
   "cell_type": "code",
   "execution_count": 24,
   "id": "197e0ad5",
   "metadata": {},
   "outputs": [],
   "source": [
    "openai.api_key = os.getenv('OPENAI_API_KEY')"
   ]
  },
  {
   "cell_type": "code",
   "execution_count": 25,
   "id": "a6c0808b",
   "metadata": {},
   "outputs": [
    {
     "data": {
      "text/plain": [
       "'s'"
      ]
     },
     "execution_count": 25,
     "metadata": {},
     "output_type": "execute_result"
    }
   ],
   "source": [
    "os.getenv('OPENAI_API_KEY')[0]"
   ]
  },
  {
   "cell_type": "code",
   "execution_count": 58,
   "id": "a01503c4",
   "metadata": {},
   "outputs": [],
   "source": [
    "response = openai.Image.create(\n",
    "    prompt = 'An artistic representation of neural network. White Background. Shadows.',\n",
    "    n = 1,\n",
    "    size = '512x512'\n",
    ")"
   ]
  },
  {
   "cell_type": "code",
   "execution_count": 59,
   "id": "bbe91ad7",
   "metadata": {},
   "outputs": [],
   "source": [
    "image_url = response['data'][0]['url']"
   ]
  },
  {
   "cell_type": "code",
   "execution_count": 60,
   "id": "d9340a69",
   "metadata": {},
   "outputs": [],
   "source": [
    "import requests\n",
    "import shutil\n",
    "\n",
    "def save_image(image_url, file_name):\n",
    "    image_res = requests.get(image_url,stream=True)\n",
    "    if image_res.status_code == 200:\n",
    "        with open(file_name,'wb') as f:\n",
    "            shutil.copyfileobj(image_res.raw,f)\n",
    "    else:\n",
    "        print('ERROR LOADING IMAGE')\n",
    "        \n",
    "    return image_res.status_code\n",
    "    "
   ]
  },
  {
   "cell_type": "code",
   "execution_count": 61,
   "id": "f13de373",
   "metadata": {},
   "outputs": [
    {
     "data": {
      "text/plain": [
       "200"
      ]
     },
     "execution_count": 61,
     "metadata": {},
     "output_type": "execute_result"
    }
   ],
   "source": [
    "save_image(image_url, 'example_download.png')"
   ]
  },
  {
   "cell_type": "code",
   "execution_count": null,
   "id": "a0d6eb53",
   "metadata": {},
   "outputs": [],
   "source": []
  }
 ],
 "metadata": {
  "kernelspec": {
   "display_name": "Python 3 (ipykernel)",
   "language": "python",
   "name": "python3"
  },
  "language_info": {
   "codemirror_mode": {
    "name": "ipython",
    "version": 3
   },
   "file_extension": ".py",
   "mimetype": "text/x-python",
   "name": "python",
   "nbconvert_exporter": "python",
   "pygments_lexer": "ipython3",
   "version": "3.9.13"
  }
 },
 "nbformat": 4,
 "nbformat_minor": 5
}
