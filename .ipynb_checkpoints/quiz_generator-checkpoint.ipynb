{
 "cells": [
  {
   "cell_type": "code",
   "execution_count": 21,
   "id": "4e86cef3",
   "metadata": {},
   "outputs": [],
   "source": [
    "import openai"
   ]
  },
  {
   "cell_type": "code",
   "execution_count": 22,
   "id": "3bb4b754",
   "metadata": {},
   "outputs": [],
   "source": [
    "import os"
   ]
  },
  {
   "cell_type": "code",
   "execution_count": 23,
   "id": "197e0ad5",
   "metadata": {},
   "outputs": [],
   "source": [
    "openai.api_key = os.getenv('OPENAI_API_KEY')"
   ]
  },
  {
   "cell_type": "code",
   "execution_count": 24,
   "id": "6c2408b1",
   "metadata": {},
   "outputs": [
    {
     "data": {
      "text/plain": [
       "'s'"
      ]
     },
     "execution_count": 24,
     "metadata": {},
     "output_type": "execute_result"
    }
   ],
   "source": [
    "os.getenv('OPENAI_API_KEY')[0]"
   ]
  },
  {
   "cell_type": "code",
   "execution_count": 42,
   "id": "725d6b5d",
   "metadata": {},
   "outputs": [],
   "source": [
    "def create_test_prompt(topic, num_questions, options, difficulty):\n",
    "    prompt = f\"Create a multiple choice quiz on the topic of {topic} consisting of {num_questions} questions. \"\\\n",
    "              +f\"Each question should have {options} options. \"\\\n",
    "              +f\"On the scale of 0 to 10 (with 10 being most difficult and 0 beaing easiest) keep the difficulty level as {difficulty}. \"\\\n",
    "              +f\"Also include the correct answer for each question using the starting string 'Correct Answer:'\"\n",
    "    return prompt"
   ]
  },
  {
   "cell_type": "code",
   "execution_count": 56,
   "id": "1f9d3f7c",
   "metadata": {},
   "outputs": [],
   "source": [
    "response = openai.Completion.create( engine = 'text-davinci-003',\n",
    "                                     prompt = create_test_prompt('India',10,4,10),\n",
    "                                     temperature = 0.5,\n",
    "                                     max_tokens = 600)"
   ]
  },
  {
   "cell_type": "code",
   "execution_count": 57,
   "id": "924fc8c1",
   "metadata": {},
   "outputs": [
    {
     "name": "stdout",
     "output_type": "stream",
     "text": [
      "\n",
      "\n",
      "Q1. What is the capital of India?\n",
      "A. Mumbai\n",
      "B. New Delhi\n",
      "C. Bengaluru\n",
      "D. Chennai\n",
      "Correct Answer: B. New Delhi\n",
      "\n",
      "Q2. What is the currency of India?\n",
      "A. Pound\n",
      "B. Euro\n",
      "C. Dollar\n",
      "D. Rupee\n",
      "Correct Answer: D. Rupee\n",
      "\n",
      "Q3. What is the official language of India?\n",
      "A. Hindi\n",
      "B. English\n",
      "C. Marathi\n",
      "D. Tamil\n",
      "Correct Answer: A. Hindi\n",
      "\n",
      "Q4. What is the highest mountain peak in India?\n",
      "A. K2\n",
      "B. Mount Everest\n",
      "C. Kangchenjunga\n",
      "D. Nanda Devi\n",
      "Correct Answer: B. Mount Everest\n",
      "\n",
      "Q5. What is the longest river in India?\n",
      "A. Ganga\n",
      "B. Indus\n",
      "C. Brahmaputra\n",
      "D. Yamuna\n",
      "Correct Answer: A. Ganga\n",
      "\n",
      "Q6. What is the national animal of India?\n",
      "A. Elephant\n",
      "B. Tiger\n",
      "C. Lion\n",
      "D. Deer\n",
      "Correct Answer: B. Tiger\n",
      "\n",
      "Q7. What is the official religion of India?\n",
      "A. Christianity\n",
      "B. Hinduism\n",
      "C. Islam\n",
      "D. Buddhism\n",
      "Correct Answer: B. Hinduism\n",
      "\n",
      "Q8. What is the largest state in India by area?\n",
      "A. Maharashtra\n",
      "B. Rajasthan\n",
      "C. Madhya Pradesh\n",
      "D. Uttar Pradesh\n",
      "Correct Answer: C. Madhya Pradesh\n",
      "\n",
      "Q9. What is the total number of official languages in India?\n",
      "A. 10\n",
      "B. 12\n",
      "C. 14\n",
      "D. 16\n",
      "Correct Answer: D. 16\n",
      "\n",
      "Q10. What is the total population of India?\n",
      "A. 1.3 billion\n",
      "B. 1.4 billion\n",
      "C. 1.5 billion\n",
      "D. 1.6 billion\n",
      "Correct Answer: A. 1.3 billion\n"
     ]
    }
   ],
   "source": [
    "print(response['choices'][0]['text'])"
   ]
  },
  {
   "cell_type": "code",
   "execution_count": 62,
   "id": "a9ea2c66",
   "metadata": {},
   "outputs": [],
   "source": [
    "def create_participant_view(test, num_questions):\n",
    "    participant_view = {1:''}\n",
    "    question_number = 1\n",
    "    for line in test.split(\"\\n\"):\n",
    "        if not line.startswith(\"Correct Answer:\"):\n",
    "            participant_view[question_number] += line+'\\n'\n",
    "        else:\n",
    "            if question_number < num_questions:\n",
    "                question_number += 1\n",
    "                participant_view[question_number] = ''\n",
    "    return participant_view\n",
    "    "
   ]
  },
  {
   "cell_type": "code",
   "execution_count": 68,
   "id": "ea4bef40",
   "metadata": {},
   "outputs": [],
   "source": [
    "result = create_participant_view(response['choices'][0]['text'],10)"
   ]
  },
  {
   "cell_type": "code",
   "execution_count": 69,
   "id": "47a8eb8b",
   "metadata": {},
   "outputs": [
    {
     "name": "stdout",
     "output_type": "stream",
     "text": [
      "\n",
      "\n",
      "Q1. What is the capital of India?\n",
      "A. Mumbai\n",
      "B. New Delhi\n",
      "C. Bengaluru\n",
      "D. Chennai\n",
      "\n",
      "\n",
      "Q2. What is the currency of India?\n",
      "A. Pound\n",
      "B. Euro\n",
      "C. Dollar\n",
      "D. Rupee\n",
      "\n",
      "Q3. What is the official language of India?\n",
      "A. Hindi\n",
      "B. English\n",
      "C. Marathi\n",
      "D. Tamil\n",
      "\n",
      "Q4. What is the highest mountain peak in India?\n",
      "A. K2\n",
      "B. Mount Everest\n",
      "C. Kangchenjunga\n",
      "D. Nanda Devi\n",
      "\n",
      "Q5. What is the longest river in India?\n",
      "A. Ganga\n",
      "B. Indus\n",
      "C. Brahmaputra\n",
      "D. Yamuna\n",
      "\n",
      "Q6. What is the national animal of India?\n",
      "A. Elephant\n",
      "B. Tiger\n",
      "C. Lion\n",
      "D. Deer\n",
      "\n",
      "Q7. What is the official religion of India?\n",
      "A. Christianity\n",
      "B. Hinduism\n",
      "C. Islam\n",
      "D. Buddhism\n",
      "\n",
      "Q8. What is the largest state in India by area?\n",
      "A. Maharashtra\n",
      "B. Rajasthan\n",
      "C. Madhya Pradesh\n",
      "D. Uttar Pradesh\n",
      "\n",
      "Q9. What is the total number of official languages in India?\n",
      "A. 10\n",
      "B. 12\n",
      "C. 14\n",
      "D. 16\n",
      "\n",
      "Q10. What is the total population of India?\n",
      "A. 1.3 billion\n",
      "B. 1.4 billion\n",
      "C. 1.5 billion\n",
      "D. 1.6 billion\n",
      "\n"
     ]
    }
   ],
   "source": [
    "for key in result:\n",
    "    print(result[key])"
   ]
  },
  {
   "cell_type": "code",
   "execution_count": 73,
   "id": "2302fb15",
   "metadata": {},
   "outputs": [],
   "source": [
    "def extract_answers(test, num_questions):\n",
    "    answers = {1:''}\n",
    "    question_number = 1\n",
    "    for line in test.split(\"\\n\"):\n",
    "        if line.startswith(\"Correct Answer:\"):\n",
    "            answers[question_number] += line+'\\n'\n",
    "            \n",
    "            if question_number < num_questions:\n",
    "                question_number += 1\n",
    "                answers[question_number] = ''\n",
    "    return answers\n",
    "    "
   ]
  },
  {
   "cell_type": "code",
   "execution_count": 75,
   "id": "59614b53",
   "metadata": {},
   "outputs": [
    {
     "data": {
      "text/plain": [
       "{1: 'Correct Answer: B. New Delhi\\n',\n",
       " 2: 'Correct Answer: D. Rupee\\n',\n",
       " 3: 'Correct Answer: A. Hindi\\n',\n",
       " 4: 'Correct Answer: B. Mount Everest\\n',\n",
       " 5: 'Correct Answer: A. Ganga\\n',\n",
       " 6: 'Correct Answer: B. Tiger\\n',\n",
       " 7: 'Correct Answer: B. Hinduism\\n',\n",
       " 8: 'Correct Answer: C. Madhya Pradesh\\n',\n",
       " 9: 'Correct Answer: D. 16\\n',\n",
       " 10: 'Correct Answer: A. 1.3 billion\\n'}"
      ]
     },
     "execution_count": 75,
     "metadata": {},
     "output_type": "execute_result"
    }
   ],
   "source": [
    "extract_answers(response['choices'][0]['text'],10)"
   ]
  },
  {
   "cell_type": "code",
   "execution_count": null,
   "id": "3be42c2c",
   "metadata": {},
   "outputs": [],
   "source": []
  }
 ],
 "metadata": {
  "kernelspec": {
   "display_name": "Python 3 (ipykernel)",
   "language": "python",
   "name": "python3"
  },
  "language_info": {
   "codemirror_mode": {
    "name": "ipython",
    "version": 3
   },
   "file_extension": ".py",
   "mimetype": "text/x-python",
   "name": "python",
   "nbconvert_exporter": "python",
   "pygments_lexer": "ipython3",
   "version": "3.9.13"
  }
 },
 "nbformat": 4,
 "nbformat_minor": 5
}
